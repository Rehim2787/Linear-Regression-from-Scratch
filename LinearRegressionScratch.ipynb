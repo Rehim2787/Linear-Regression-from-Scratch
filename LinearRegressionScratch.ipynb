{
 "cells": [
  {
   "cell_type": "code",
   "execution_count": 1,
   "id": "f275e63c",
   "metadata": {},
   "outputs": [],
   "source": [
    "import numpy as np"
   ]
  },
  {
   "cell_type": "code",
   "execution_count": 2,
   "id": "bf779096",
   "metadata": {},
   "outputs": [],
   "source": [
    "class Linear_Regression():\n",
    "    \n",
    "    def __init__(self,learning_rate,no_of_iterations):\n",
    "        \n",
    "        self.learning_rate = learning_rate\n",
    "        self.no_of_iterations = no_of_iterations\n",
    "        \n",
    "    def fit(self,X,Y):\n",
    "        \n",
    "        self.m,self.n = X.shape #number of rows and columns\n",
    "        \n",
    "        #weight and bias\n",
    "        \n",
    "        self.w = np.zeros(self.n)\n",
    "        \n",
    "        self.b = 0\n",
    "        self.X = X\n",
    "        self.Y = Y\n",
    "        \n",
    "        for i in range(self.no_of_iterations):\n",
    "            self.update_weights()\n",
    "        \n",
    "    def update_weights(self):\n",
    "        \n",
    "        Y_prediction = self.predict(self.X)\n",
    "        \n",
    "        error =  Y_prediction - self.Y\n",
    "        \n",
    "        dw =  np.dot(self.X.T,error)/self.m\n",
    "        \n",
    "        db = np.sum(error)/self.m\n",
    "        \n",
    "        self.w = self.w - self.learning_rate *dw\n",
    "        self.b  = self.b -self.learning_rate*db\n",
    "        \n",
    "    def r_squared(self,X_test,Y_test):\n",
    "        \n",
    "        y_mean =np.mean(Y_test)\n",
    "        ss_total = np.sum((Y_test - y_mean)**2)\n",
    "        ss_res = np.sum((Y_test - self.predict(X_test))**2)\n",
    "        \n",
    "        r2 = 1-(ss_res/ss_total)\n",
    "        return r2\n",
    "        \n",
    "        \n",
    "        \n",
    "    def predict(self,X):\n",
    "        \n",
    "        return   np.dot(X,self.w)+self.b\n",
    "        \n",
    "        "
   ]
  }
 ],
 "metadata": {
  "kernelspec": {
   "display_name": "Python 3 (ipykernel)",
   "language": "python",
   "name": "python3"
  },
  "language_info": {
   "codemirror_mode": {
    "name": "ipython",
    "version": 3
   },
   "file_extension": ".py",
   "mimetype": "text/x-python",
   "name": "python",
   "nbconvert_exporter": "python",
   "pygments_lexer": "ipython3",
   "version": "3.10.0"
  }
 },
 "nbformat": 4,
 "nbformat_minor": 5
}
